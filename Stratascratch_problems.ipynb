{
  "nbformat": 4,
  "nbformat_minor": 0,
  "metadata": {
    "colab": {
      "name": "Stratascratch problems.ipynb",
      "provenance": [],
      "collapsed_sections": [],
      "toc_visible": true,
      "authorship_tag": "ABX9TyMzsOaYRB0hRY18UDtHQ3Cj",
      "include_colab_link": true
    },
    "kernelspec": {
      "name": "python3",
      "display_name": "Python 3"
    },
    "language_info": {
      "name": "python"
    }
  },
  "cells": [
    {
      "cell_type": "markdown",
      "metadata": {
        "id": "view-in-github",
        "colab_type": "text"
      },
      "source": [
        "<a href=\"https://colab.research.google.com/github/vedpd/Pandas_Practice/blob/main/Stratascratch_problems.ipynb\" target=\"_parent\"><img src=\"https://colab.research.google.com/assets/colab-badge.svg\" alt=\"Open In Colab\"/></a>"
      ]
    },
    {
      "cell_type": "markdown",
      "source": [
        "#1.https://platform.stratascratch.com/coding/10285-acceptance-rate-by-date?python=1\n",
        "\n",
        "Acceptance Rate By Date\n",
        "What is the overall friend acceptance rate by date? Your output should have the rate of acceptances by the date the request was sent. Order by the earliest date to latest.\n",
        "\n",
        "Assume that each friend request starts by a user sending (i.e., user_id_sender) a friend request to another user (i.e., user_id_receiver) that's logged in the table with action = 'sent'. If the request is accepted, the table logs action = 'accepted'. If the request is not accepted, no record of action = 'accepted' is logged."
      ],
      "metadata": {
        "id": "rIDH8YjvSN9j"
      }
    },
    {
      "cell_type": "code",
      "execution_count": null,
      "metadata": {
        "id": "hCV0Hs0ISKh6"
      },
      "outputs": [],
      "source": [
        "# Import your libraries\n",
        "import pandas as pd\n",
        "\n",
        "# Start writing code\n",
        "#fb_friend_requests.head()\n",
        "\n",
        "#splitting data into sent and accepted\n",
        "fb_friend_sent = fb_friend_requests[fb_friend_requests.action==\"sent\"]\n",
        "fb_friend_accepted = fb_friend_requests[fb_friend_requests.action==\"accepted\"]\n",
        "\n",
        "#merging the data to bring sent and accepted in a single row for userid, received id combination\n",
        "merged_df = pd.merge(fb_friend_sent, fb_friend_accepted,  how='left', left_on=['user_id_sender','user_id_receiver'], right_on = ['user_id_sender','user_id_receiver'])\n",
        "\n",
        "\n",
        "#grouping the data based on the request sent\n",
        "grouped_df = merged_df.groupby(['date_x']).agg(['count'])#.reset_index()\n",
        "\n",
        "#converting the grouped data into dataframe\n",
        "grouped_df.columns = [ ' '.join(str(i) for i in col) for col in grouped_df.columns]\n",
        "grouped_df.reset_index(inplace=True)\n",
        "\n",
        "\n",
        "#creating a new column in grouped data to find ratio between accepted/sent request\n",
        "grouped_df['acceptance_rate'] = grouped_df['action_y count']/grouped_df['action_x count']\n",
        "\n",
        "#subsetting columns to show date vs acceptance rate\n",
        "final_df = grouped_df[['date_x','acceptance_rate']]\n",
        "\n",
        "final_df.head()\n"
      ]
    },
    {
      "cell_type": "markdown",
      "source": [
        "#2.https://platform.stratascratch.com/coding/10064-highest-energy-consumption?python=1\n",
        "\n",
        "<b>Highest Energy Consumption</b> <br>\n",
        "Find the date with the highest total energy consumption from the Meta/Facebook data centers. Output the date along with the total energy consumption across all data centers. <br>\n",
        "DataFrames: fb_eu_energy, fb_asia_energy, fb_na_energy. <br>\n",
        "Expected Output Type: pandas.DataFrame"
      ],
      "metadata": {
        "id": "j6dB4Rw4iXQF"
      }
    },
    {
      "cell_type": "code",
      "source": [
        "# Import your libraries\n",
        "import pandas as pd\n",
        "\n",
        "# Start writing code\n",
        "\n",
        "\n",
        "# using the approach to concatenate adding all dataframe along rows\n",
        "fb_final = pd.concat([fb_eu_energy,fb_asia_energy,fb_na_energy],axis=0)\n",
        "fb_grouped = fb_final.groupby(['date']).agg(['sum'])\n",
        "\n",
        "\n",
        "##converting the grouped data into dataframe\n",
        "fb_grouped.columns = [ ' '.join(str(i) for i in col) for col in fb_grouped.columns]\n",
        "fb_grouped.reset_index(inplace=True)\n",
        "\n",
        "\n",
        "#obtaining max value of consumption\n",
        "max_cons = max(fb_grouped['consumption sum'])\n",
        "\n",
        "#subsetting based on max value of consumption\n",
        "fb_max_df = fb_grouped[fb_grouped['consumption sum'] == max_cons]"
      ],
      "metadata": {
        "id": "ekjwS8nviYkR"
      },
      "execution_count": null,
      "outputs": []
    },
    {
      "cell_type": "markdown",
      "source": [
        "#3.https://platform.stratascratch.com/coding/10322-finding-user-purchases?python=1\n",
        "\n",
        "<b>Finding User Purchases</b> <br>\n",
        "Write a query that'll identify returning active users. A returning active user is a user that has made a second purchase within 7 days of any other of their purchases. Output a list of user_ids of these returning active users."
      ],
      "metadata": {
        "id": "l4t-xQFVn9ym"
      }
    },
    {
      "cell_type": "code",
      "source": [
        "# Import your libraries\n",
        "import pandas as pd\n",
        "\n",
        "# Start writing code\n",
        "amazon_transactions.head()\n",
        "\n",
        "#combine same dataframes using inner join\n",
        "amazon_combined = pd.merge(amazon_transactions, amazon_transactions, on=\"user_id\", how=\"inner\")\n",
        "\n",
        "#above inner join gave duplicates- let's filter out the data\n",
        "amazon_combined['days'] = abs(amazon_combined['created_at_x'] - amazon_combined['created_at_y']).dt.days\n",
        "\n",
        "#because of abs value the difference can be negative and hence duplicates needs to be removed in last step\n",
        "\n",
        "#filtering data for days <=7 and ids not being same for 2 different items\n",
        "amazon_combined = amazon_combined[(amazon_combined.days <= 7) & (amazon_combined.id_x != amazon_combined.id_y)]\n",
        "\n",
        "#final list of user_id as due to absolute difference there will be duplicates\n",
        "\n",
        "values = amazon_combined['user_id'].drop_duplicates()"
      ],
      "metadata": {
        "id": "v3gLrJNHiZTi"
      },
      "execution_count": null,
      "outputs": []
    },
    {
      "cell_type": "markdown",
      "source": [
        "#4.https://platform.stratascratch.com/coding/10308-salaries-differences?python=1\n",
        "\n",
        "<b>Salaries Differences</b></br>\n",
        "Write a query that calculates the difference between the highest salaries found in the marketing and engineering departments. Output just the absolute difference in salaries."
      ],
      "metadata": {
        "id": "rAVwOWHNpTMs"
      }
    },
    {
      "cell_type": "code",
      "source": [
        "# Import your libraries\n",
        "import pandas as pd\n",
        "\n",
        "# Start writing code\n",
        "#db_employee.head()\n",
        "\n",
        "#difference in salaries\n",
        "df_join = pd.merge(db_employee, db_dept, left_on=['department_id'], right_on=['id'], how='inner')\n",
        "\n",
        "result = df_join.groupby('department').agg('max')\n",
        "#print(result.head())\n",
        "\n",
        "mark_max= result.loc['marketing']['salary']\n",
        "eng_max = result.loc['engineering']['salary']\n",
        "\n",
        "diff = abs(mark_max-eng_max)"
      ],
      "metadata": {
        "id": "4qFK09WdpRgK"
      },
      "execution_count": null,
      "outputs": []
    },
    {
      "cell_type": "markdown",
      "source": [
        "#5.https://platform.stratascratch.com/coding/9913-order-details?python=1\n",
        "\n",
        "<b>Order Details</b></br>\n",
        "Find order details made by Jill and Eva.\n",
        "Consider the Jill and Eva as first names of customers.\n",
        "Output the order date, details and cost along with the first name. <br>\n",
        "Order records based on the customer id in ascending order.\n"
      ],
      "metadata": {
        "id": "4vG5thVIK2Dy"
      }
    },
    {
      "cell_type": "code",
      "source": [
        "# Import your libraries\n",
        "import pandas as pd\n",
        "\n",
        "# Start writing code\n",
        "#customers.head()\n",
        "\n",
        "first_name_ls =['Jill','Eva']\n",
        "\n",
        "order_merged = pd.merge(customers,orders,left_on=\"id\", right_on = \"cust_id\", how = \"left\")\n",
        "\n",
        "#selecting specific columns\n",
        "order_merged_df = order_merged[['cust_id','first_name','order_date','order_details','total_order_cost']]\n",
        "\n",
        "#filtering data based on first_name\n",
        "order_merged_df = order_merged_df[order_merged_df['first_name'].isin(first_name_ls)]\n",
        "\n",
        "\n",
        "#sorting the final df\n",
        "order_merged_df.sort_values(by=['cust_id'],ascending=True)\n",
        "\n",
        "\n"
      ],
      "metadata": {
        "id": "ZbNO9WCXLAeP"
      },
      "execution_count": null,
      "outputs": []
    }
  ]
}