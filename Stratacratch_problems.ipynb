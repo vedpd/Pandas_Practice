{
  "nbformat": 4,
  "nbformat_minor": 0,
  "metadata": {
    "colab": {
      "name": "Stratacratch problems.ipynb",
      "provenance": [],
      "authorship_tag": "ABX9TyOkSKjjRTJceK/84ucLjqPe",
      "include_colab_link": true
    },
    "kernelspec": {
      "name": "python3",
      "display_name": "Python 3"
    },
    "language_info": {
      "name": "python"
    }
  },
  "cells": [
    {
      "cell_type": "markdown",
      "metadata": {
        "id": "view-in-github",
        "colab_type": "text"
      },
      "source": [
        "<a href=\"https://colab.research.google.com/github/vedpd/Pandas_Practice/blob/main/Stratacratch_problems.ipynb\" target=\"_parent\"><img src=\"https://colab.research.google.com/assets/colab-badge.svg\" alt=\"Open In Colab\"/></a>"
      ]
    },
    {
      "cell_type": "markdown",
      "source": [
        "#1. https://platform.stratascratch.com/coding/10285-acceptance-rate-by-date?python=1\n",
        "\n",
        "Acceptance Rate By Date\n",
        "What is the overall friend acceptance rate by date? Your output should have the rate of acceptances by the date the request was sent. Order by the earliest date to latest.\n",
        "\n",
        "Assume that each friend request starts by a user sending (i.e., user_id_sender) a friend request to another user (i.e., user_id_receiver) that's logged in the table with action = 'sent'. If the request is accepted, the table logs action = 'accepted'. If the request is not accepted, no record of action = 'accepted' is logged."
      ],
      "metadata": {
        "id": "rIDH8YjvSN9j"
      }
    },
    {
      "cell_type": "code",
      "execution_count": null,
      "metadata": {
        "id": "hCV0Hs0ISKh6"
      },
      "outputs": [],
      "source": [
        "# Import your libraries\n",
        "import pandas as pd\n",
        "\n",
        "# Start writing code\n",
        "#fb_friend_requests.head()\n",
        "\n",
        "#splitting data into sent and accepted\n",
        "fb_friend_sent = fb_friend_requests[fb_friend_requests.action==\"sent\"]\n",
        "fb_friend_accepted = fb_friend_requests[fb_friend_requests.action==\"accepted\"]\n",
        "\n",
        "#merging the data to bring sent and accepted in a single row for userid, received id combination\n",
        "merged_df = pd.merge(fb_friend_sent, fb_friend_accepted,  how='left', left_on=['user_id_sender','user_id_receiver'], right_on = ['user_id_sender','user_id_receiver'])\n",
        "\n",
        "\n",
        "#grouping the data based on the request sent\n",
        "grouped_df = merged_df.groupby(['date_x']).agg(['count'])#.reset_index()\n",
        "\n",
        "#converting the grouped data into dataframe\n",
        "grouped_df.columns = [ ' '.join(str(i) for i in col) for col in grouped_df.columns]\n",
        "grouped_df.reset_index(inplace=True)\n",
        "\n",
        "\n",
        "#creating a new column in grouped data to find ratio between accepted/sent request\n",
        "grouped_df['acceptance_rate'] = grouped_df['action_y count']/grouped_df['action_x count']\n",
        "\n",
        "#subsetting columns to show date vs acceptance rate\n",
        "final_df = grouped_df[['date_x','acceptance_rate']]\n",
        "\n",
        "final_df.head()\n"
      ]
    }
  ]
}